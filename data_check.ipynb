{
 "cells": [
  {
   "cell_type": "code",
   "execution_count": 1,
   "metadata": {
    "collapsed": true
   },
   "outputs": [],
   "source": [
    "import utils.load_data as load_data\n",
    "from collections import Counter\n",
    "import numpy as np \n",
    "import matplotlib.pyplot as plt \n",
    "%matplotlib inline"
   ]
  },
  {
   "cell_type": "code",
   "execution_count": 2,
   "metadata": {
    "collapsed": true
   },
   "outputs": [],
   "source": [
    "%load_ext autoreload\n",
    "%autoreload 2"
   ]
  },
  {
   "cell_type": "code",
   "execution_count": 31,
   "metadata": {},
   "outputs": [
    {
     "name": "stdout",
     "output_type": "stream",
     "text": [
      "Finished data session Session1\n",
      "Finished data session Session2\n",
      "Finished data session Session3\n",
      "Finished data session Session4\n",
      "Finished data session Session5\n"
     ]
    }
   ],
   "source": [
    "sentence_audio = load_data.load_sentences()"
   ]
  },
  {
   "cell_type": "code",
   "execution_count": 32,
   "metadata": {},
   "outputs": [
    {
     "name": "stdout",
     "output_type": "stream",
     "text": [
      "Min 0.5849999999999973 Max 34.1388 Mean 4.589430948509485\n"
     ]
    }
   ],
   "source": [
    "durations = [item.duration for item in sentence_audio if item.emo_label != 'xxx']\n",
    "print('Min', min(durations), 'Max', max(durations) , 'Mean', np.mean(durations))"
   ]
  },
  {
   "cell_type": "code",
   "execution_count": 34,
   "metadata": {},
   "outputs": [
    {
     "data": {
      "text/plain": [
       "(array([1.634e+03, 2.402e+03, 1.317e+03, 8.600e+02, 4.720e+02, 2.950e+02,\n",
       "        1.780e+02, 8.800e+01, 7.000e+01, 2.400e+01, 1.800e+01, 6.000e+00,\n",
       "        4.000e+00, 4.000e+00, 2.000e+00, 2.000e+00, 1.000e+00, 1.000e+00,\n",
       "        1.000e+00, 1.000e+00]),\n",
       " array([ 116. ,  451.5,  787. , 1122.5, 1458. , 1793.5, 2129. , 2464.5,\n",
       "        2800. , 3135.5, 3471. , 3806.5, 4142. , 4477.5, 4813. , 5148.5,\n",
       "        5484. , 5819.5, 6155. , 6490.5, 6826. ]),\n",
       " <a list of 20 Patch objects>)"
      ]
     },
     "execution_count": 34,
     "metadata": {},
     "output_type": "execute_result"
    },
    {
     "data": {
      "image/png": "[encoded data removed]",
      "text/plain": [
       "<matplotlib.figure.Figure at 0x189c2a710>"
      ]
     },
     "metadata": {},
     "output_type": "display_data"
    }
   ],
   "source": [
    "data = [item.audio_data for item in sentence_audio if item.emo_label != 'xxx']\n",
    "lengths = [item.shape[0] for item in data] \n",
    "plt.hist(lengths, bins=20)"
   ]
  },
  {
   "cell_type": "code",
   "execution_count": 80,
   "metadata": {},
   "outputs": [
    {
     "data": {
      "text/plain": [
       "(7380, 2000, 26)"
      ]
     },
     "execution_count": 80,
     "metadata": {},
     "output_type": "execute_result"
    }
   ],
   "source": [
    "data_trimmed = [load_data.trim_and_pad_audio_data(item) for item in data]\n",
    "data_trimmed = np.stack(data_trimmed)\n",
    "data_trimmed.shape"
   ]
  },
  {
   "cell_type": "code",
   "execution_count": 59,
   "metadata": {},
   "outputs": [
    {
     "data": {
      "text/plain": [
       "Counter({'ang': 1103,\n",
       "         'exc': 1041,\n",
       "         'fru': 1849,\n",
       "         'hap': 595,\n",
       "         'neu': 1708,\n",
       "         'sad': 1084})"
      ]
     },
     "execution_count": 59,
     "metadata": {},
     "output_type": "execute_result"
    }
   ],
   "source": [
    "emotion_labels = [item.emo_label for item in sentence_audio if item.emo_label != 'xxx']\n",
    "emotions_count = Counter(emotion_labels)\n",
    "emotions_count"
   ]
  },
  {
   "cell_type": "code",
   "execution_count": 76,
   "metadata": {},
   "outputs": [
    {
     "data": {
      "text/plain": [
       "(7380, 6)"
      ]
     },
     "execution_count": 76,
     "metadata": {},
     "output_type": "execute_result"
    }
   ],
   "source": [
    "emotions = list(set(emotion_labels))\n",
    "emotions_to_int = dict((emotion, i) for i, emotion in enumerate(emotions))\n",
    "emotions_int = np.array([emotions_to_int[emotion] for emotion in emotion_labels])\n",
    "emotions_onehot = np.zeros((len(emotion_labels), len(emotions)))\n",
    "emotions_onehot[np.arange(len(emotion_labels)), emotions_int] = 1 \n",
    "emotions_onehot.shape"
   ]
  },
  {
   "cell_type": "code",
   "execution_count": 81,
   "metadata": {
    "collapsed": true
   },
   "outputs": [],
   "source": [
    "from sklearn.model_selection import train_test_split\n",
    "\n",
    "x_train, x_val, y_train, y_val = train_test_split(data_trimmed, emotions_onehot, test_size=0.2)"
   ]
  },
  {
   "cell_type": "code",
   "execution_count": 87,
   "metadata": {
    "collapsed": true
   },
   "outputs": [],
   "source": [
    "from models.ctc import LSTMctc\n",
    "\n",
    "lstm = LSTMctc(num_classes=emotions, num_features=26) \n"
   ]
  },
  {
   "cell_type": "code",
   "execution_count": null,
   "metadata": {
    "collapsed": true
   },
   "outputs": [],
   "source": []
  }
 ],
 "metadata": {
  "kernelspec": {
   "display_name": "Python 3",
   "language": "python",
   "name": "python3"
  },
  "language_info": {
   "codemirror_mode": {
    "name": "ipython",
    "version": 3
   },
   "file_extension": ".py",
   "mimetype": "text/x-python",
   "name": "python",
   "nbconvert_exporter": "python",
   "pygments_lexer": "ipython3",
   "version": "3.6.5"
  }
 },
 "nbformat": 4,
 "nbformat_minor": 2
}
