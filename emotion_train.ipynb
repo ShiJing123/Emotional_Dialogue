{
 "cells": [
  {
   "cell_type": "code",
   "execution_count": 3,
   "metadata": {},
   "outputs": [],
   "source": [
    "import numpy as np \n",
    "import tensorflow as tf \n",
    "from collections import Counter\n",
    "import itertools\n",
    "\n",
    "import utils.load_data as load_data\n",
    "from speech_models.emotion_recognition import ClassifyEmotion\n",
    "\n",
    "from sklearn.model_selection import train_test_split\n",
    "from sklearn.preprocessing import LabelEncoder, OneHotEncoder\n",
    "from sklearn.metrics import confusion_matrix\n",
    "\n",
    "import matplotlib.pyplot as plt \n",
    "%matplotlib inline"
   ]
  },
  {
   "cell_type": "code",
   "execution_count": 1,
   "metadata": {},
   "outputs": [],
   "source": [
    "%load_ext autoreload\n",
    "%autoreload 2"
   ]
  },
  {
   "cell_type": "markdown",
   "metadata": {},
   "source": [
    "# Load IEMOCAP Data \n",
    "\n",
    "The IEMOCAP data is saved into 5 sessions. Here scripted readings are mixed with improvised conversations. "
   ]
  },
  {
   "cell_type": "code",
   "execution_count": 5,
   "metadata": {},
   "outputs": [
    {
     "name": "stdout",
     "output_type": "stream",
     "text": [
      "Finished data session Session1\n",
      "Finished data session Session2\n",
      "Finished data session Session3\n",
      "Finished data session Session4\n",
      "Finished data session Session5\n"
     ]
    }
   ],
   "source": [
    "data, orig_lengths, labels, metadata = load_data.load_sentences(max_sequence_length=1000, \n",
    "                                                                win_len=.04, win_step=.02)"
   ]
  },
  {
   "cell_type": "code",
   "execution_count": 39,
   "metadata": {},
   "outputs": [
    {
     "data": {
      "text/plain": [
       "Counter({'ang': 1103,\n",
       "         'exc': 1041,\n",
       "         'fru': 1849,\n",
       "         'hap': 595,\n",
       "         'neu': 1708,\n",
       "         'sad': 1084})"
      ]
     },
     "execution_count": 39,
     "metadata": {},
     "output_type": "execute_result"
    }
   ],
   "source": [
    "cnt = Counter()\n",
    "for emotion in labels:\n",
    "    cnt[emotion] += 1\n",
    "emotions = list(cnt.keys())\n",
    "sizes = list(cnt.values())\n",
    "cnt"
   ]
  },
  {
   "cell_type": "code",
   "execution_count": 38,
   "metadata": {},
   "outputs": [
    {
     "data": {
      "text/plain": [
       "([<matplotlib.patches.Wedge at 0x7fb805858e80>,\n",
       "  <matplotlib.patches.Wedge at 0x7fb805882908>,\n",
       "  <matplotlib.patches.Wedge at 0x7fb805891358>,\n",
       "  <matplotlib.patches.Wedge at 0x7fb805891dd8>,\n",
       "  <matplotlib.patches.Wedge at 0x7fb8058fa898>,\n",
       "  <matplotlib.patches.Wedge at 0x7fb8058fc358>],\n",
       " [Text(-0.49772,0.980956,'ang'),\n",
       "  Text(-1.0805,0.206211,'exc'),\n",
       "  Text(-0.829873,-0.722018,'sad'),\n",
       "  Text(-0.153554,-1.08923,'hap'),\n",
       "  Text(0.819337,-0.733953,'neu'),\n",
       "  Text(0.779141,0.776492,'fru')],\n",
       " [Text(-0.271484,0.535067,'14.9%'),\n",
       "  Text(-0.589363,0.112479,'14.1%'),\n",
       "  Text(-0.452658,-0.393828,'14.7%'),\n",
       "  Text(-0.0837568,-0.594125,'8.1%'),\n",
       "  Text(0.446911,-0.400338,'23.1%'),\n",
       "  Text(0.424986,0.423541,'25.1%')])"
      ]
     },
     "execution_count": 38,
     "metadata": {},
     "output_type": "execute_result"
    },
    {
     "data": {
      "image/png": "[encoded data removed]",
      "text/plain": [
       "<Figure size 432x288 with 1 Axes>"
      ]
     },
     "metadata": {},
     "output_type": "display_data"
    }
   ],
   "source": [
    "plt.pie(sizes, labels=emotions, shadow=True, startangle=90, autopct='%1.1f%%')"
   ]
  },
  {
   "cell_type": "code",
   "execution_count": 6,
   "metadata": {},
   "outputs": [],
   "source": [
    "# Convert Y to one hot\n",
    "int_labels = LabelEncoder().fit_transform(labels)\n",
    "int_labels = int_labels.reshape(len(int_labels), 1)\n",
    "onehot_labels = OneHotEncoder().fit_transform(int_labels).toarray()"
   ]
  },
  {
   "cell_type": "code",
   "execution_count": 10,
   "metadata": {},
   "outputs": [],
   "source": [
    "# Subset limited amount of data for hyperparameter search \n",
    "lim_data = data[::10]\n",
    "lim_lengths = orig_lengths[::10] \n",
    "lim_onehot_labels = onehot_labels[::10]\n",
    "\n",
    "# Split into train and test\n",
    "lim_train_x, lim_val_x, lim_train_y, lim_val_y, lim_train_lengths, lim_val_lengths = train_test_split(lim_data,\n",
    "                                                                              lim_onehot_labels,\n",
    "                                                                              lim_lengths,\n",
    "                                                                              test_size=0.1)"
   ]
  },
  {
   "cell_type": "markdown",
   "metadata": {},
   "source": [
    "# Hyperparameter search using limited data "
   ]
  },
  {
   "cell_type": "code",
   "execution_count": 11,
   "metadata": {},
   "outputs": [
    {
     "name": "stdout",
     "output_type": "stream",
     "text": [
      "{'dense_hidden': 64, 'num_classes': 6, 'learning_rate': 0.0001, 'num_features': 26, 'num_hidden': 256}\n",
      "Created 21 batches of size 32\n",
      "Created Validation 3 batches of size 32\n",
      "Data Batch Shape: (32, 1000, 26) Labels Shape: (32, 6) \n",
      "BLSTM-0 (?, 512)\n",
      "BLSTM-1 (?, 512)\n",
      "(?, 64)\n",
      "(?, 6)\n",
      "Epoch 0 mean batch val loss 1.7716026306152344\n",
      "Epoch 5 mean batch val loss 1.672549843788147\n",
      "Epoch 10 mean batch val loss 1.6704819202423096\n",
      "Epoch 15 mean batch val loss 1.6707208156585693\n",
      "Epoch 20 mean batch val loss 1.6707878112792969\n",
      "Epoch 25 mean batch val loss 1.6708301305770874\n",
      "Epoch 30 mean batch val loss 1.6708418130874634\n",
      "Epoch 35 mean batch val loss 1.671813726425171\n",
      "Epoch 40 mean batch val loss 1.6795858144760132\n",
      "Epoch 45 mean batch val loss 1.6695420742034912\n",
      "Epoch 49 mean batch val loss 1.6695420742034912\n",
      "Accuracy: 0.20270270270270271\n",
      "{'dense_hidden': 64, 'num_classes': 6, 'learning_rate': 0.0005, 'num_features': 26, 'num_hidden': 256}\n",
      "Created 21 batches of size 32\n",
      "Created Validation 3 batches of size 32\n",
      "Data Batch Shape: (32, 1000, 26) Labels Shape: (32, 6) \n",
      "BLSTM-0 (?, 512)\n",
      "BLSTM-1 (?, 512)\n",
      "(?, 64)\n",
      "(?, 6)\n",
      "Epoch 0 mean batch val loss 1.6961473226547241\n",
      "Epoch 5 mean batch val loss 1.6712663173675537\n",
      "Epoch 10 mean batch val loss 1.7001367807388306\n",
      "Epoch 15 mean batch val loss 1.6667330265045166\n",
      "Epoch 20 mean batch val loss 1.6670869588851929\n",
      "Epoch 25 mean batch val loss 1.6742384433746338\n"
     ]
    },
    {
     "ename": "KeyboardInterrupt",
     "evalue": "",
     "traceback": [
      "\u001b[0;31m---------------------------------------------------------\u001b[0m",
      "\u001b[0;31mKeyboardInterrupt\u001b[0m       Traceback (most recent call last)",
      "\u001b[0;32m<ipython-input-11-4d00964723c8>\u001b[0m in \u001b[0;36m<module>\u001b[0;34m()\u001b[0m\n\u001b[1;32m     11\u001b[0m                           \u001b[0mverbose\u001b[0m\u001b[0;34m=\u001b[0m\u001b[0;32mFalse\u001b[0m\u001b[0;34m,\u001b[0m\u001b[0;34m\u001b[0m\u001b[0m\n\u001b[1;32m     12\u001b[0m                           \u001b[0mbatch_size\u001b[0m\u001b[0;34m=\u001b[0m\u001b[0;36m32\u001b[0m\u001b[0;34m,\u001b[0m \u001b[0mepochs\u001b[0m\u001b[0;34m=\u001b[0m\u001b[0;36m50\u001b[0m\u001b[0;34m,\u001b[0m \u001b[0mload_model\u001b[0m\u001b[0;34m=\u001b[0m\u001b[0;32mFalse\u001b[0m\u001b[0;34m,\u001b[0m\u001b[0;34m\u001b[0m\u001b[0m\n\u001b[0;32m---> 13\u001b[0;31m                           save_path='final_model/lr_test.ckpt')\n\u001b[0m\u001b[1;32m     14\u001b[0m     \u001b[0macc\u001b[0m \u001b[0;34m=\u001b[0m \u001b[0msum\u001b[0m\u001b[0;34m(\u001b[0m\u001b[0mval_pred\u001b[0m \u001b[0;34m==\u001b[0m \u001b[0mnp\u001b[0m\u001b[0;34m.\u001b[0m\u001b[0margmax\u001b[0m\u001b[0;34m(\u001b[0m\u001b[0mlim_val_y\u001b[0m\u001b[0;34m,\u001b[0m \u001b[0;36m1\u001b[0m\u001b[0;34m)\u001b[0m\u001b[0;34m)\u001b[0m\u001b[0;34m/\u001b[0m\u001b[0mlen\u001b[0m\u001b[0;34m(\u001b[0m\u001b[0mval_pred\u001b[0m\u001b[0;34m)\u001b[0m\u001b[0;34m\u001b[0m\u001b[0m\n\u001b[1;32m     15\u001b[0m     \u001b[0mprint\u001b[0m\u001b[0;34m(\u001b[0m\u001b[0;34m'Accuracy: {}'\u001b[0m\u001b[0;34m.\u001b[0m\u001b[0mformat\u001b[0m\u001b[0;34m(\u001b[0m\u001b[0macc\u001b[0m\u001b[0;34m)\u001b[0m\u001b[0;34m)\u001b[0m\u001b[0;34m\u001b[0m\u001b[0m\n",
      "\u001b[0;32m~/Emotional_Dialogue/models/emotion_recognition.py\u001b[0m in \u001b[0;36mtrain\u001b[0;34m(self, train_x, train_y, train_lengths, val_x, val_y, val_lengths, batch_size, epochs, verbose, save_path, load_model)\u001b[0m\n\u001b[1;32m    135\u001b[0m                         \u001b[0mseq_len\u001b[0m\u001b[0;34m:\u001b[0m \u001b[0mlen_batch\u001b[0m\u001b[0;34m\u001b[0m\u001b[0m\n\u001b[1;32m    136\u001b[0m                     }\n\u001b[0;32m--> 137\u001b[0;31m                     \u001b[0m_\u001b[0m \u001b[0;34m=\u001b[0m \u001b[0msess\u001b[0m\u001b[0;34m.\u001b[0m\u001b[0mrun\u001b[0m\u001b[0;34m(\u001b[0m\u001b[0mstep\u001b[0m\u001b[0;34m,\u001b[0m \u001b[0mfeed_dict\u001b[0m\u001b[0;34m=\u001b[0m\u001b[0mfeed_dict\u001b[0m\u001b[0;34m)\u001b[0m\u001b[0;34m\u001b[0m\u001b[0m\n\u001b[0m\u001b[1;32m    138\u001b[0m                     \u001b[0;32mif\u001b[0m \u001b[0mverbose\u001b[0m\u001b[0;34m:\u001b[0m\u001b[0;34m\u001b[0m\u001b[0m\n\u001b[1;32m    139\u001b[0m                         \u001b[0merr\u001b[0m \u001b[0;34m=\u001b[0m \u001b[0msess\u001b[0m\u001b[0;34m.\u001b[0m\u001b[0mrun\u001b[0m\u001b[0;34m(\u001b[0m\u001b[0mloss\u001b[0m\u001b[0;34m,\u001b[0m \u001b[0mfeed_dict\u001b[0m\u001b[0;34m=\u001b[0m\u001b[0mfeed_dict\u001b[0m\u001b[0;34m)\u001b[0m\u001b[0;34m\u001b[0m\u001b[0m\n",
      "\u001b[0;32m~/.local/lib/python3.5/site-packages/tensorflow/python/client/session.py\u001b[0m in \u001b[0;36mrun\u001b[0;34m(self, fetches, feed_dict, options, run_metadata)\u001b[0m\n\u001b[1;32m    898\u001b[0m     \u001b[0;32mtry\u001b[0m\u001b[0;34m:\u001b[0m\u001b[0;34m\u001b[0m\u001b[0m\n\u001b[1;32m    899\u001b[0m       result = self._run(None, fetches, feed_dict, options_ptr,\n\u001b[0;32m--> 900\u001b[0;31m                          run_metadata_ptr)\n\u001b[0m\u001b[1;32m    901\u001b[0m       \u001b[0;32mif\u001b[0m \u001b[0mrun_metadata\u001b[0m\u001b[0;34m:\u001b[0m\u001b[0;34m\u001b[0m\u001b[0m\n\u001b[1;32m    902\u001b[0m         \u001b[0mproto_data\u001b[0m \u001b[0;34m=\u001b[0m \u001b[0mtf_session\u001b[0m\u001b[0;34m.\u001b[0m\u001b[0mTF_GetBuffer\u001b[0m\u001b[0;34m(\u001b[0m\u001b[0mrun_metadata_ptr\u001b[0m\u001b[0;34m)\u001b[0m\u001b[0;34m\u001b[0m\u001b[0m\n",
      "\u001b[0;32m~/.local/lib/python3.5/site-packages/tensorflow/python/client/session.py\u001b[0m in \u001b[0;36m_run\u001b[0;34m(self, handle, fetches, feed_dict, options, run_metadata)\u001b[0m\n\u001b[1;32m   1133\u001b[0m     \u001b[0;32mif\u001b[0m \u001b[0mfinal_fetches\u001b[0m \u001b[0;32mor\u001b[0m \u001b[0mfinal_targets\u001b[0m \u001b[0;32mor\u001b[0m \u001b[0;34m(\u001b[0m\u001b[0mhandle\u001b[0m \u001b[0;32mand\u001b[0m \u001b[0mfeed_dict_tensor\u001b[0m\u001b[0;34m)\u001b[0m\u001b[0;34m:\u001b[0m\u001b[0;34m\u001b[0m\u001b[0m\n\u001b[1;32m   1134\u001b[0m       results = self._do_run(handle, final_targets, final_fetches,\n\u001b[0;32m-> 1135\u001b[0;31m                              feed_dict_tensor, options, run_metadata)\n\u001b[0m\u001b[1;32m   1136\u001b[0m     \u001b[0;32melse\u001b[0m\u001b[0;34m:\u001b[0m\u001b[0;34m\u001b[0m\u001b[0m\n\u001b[1;32m   1137\u001b[0m       \u001b[0mresults\u001b[0m \u001b[0;34m=\u001b[0m \u001b[0;34m[\u001b[0m\u001b[0;34m]\u001b[0m\u001b[0;34m\u001b[0m\u001b[0m\n",
      "\u001b[0;32m~/.local/lib/python3.5/site-packages/tensorflow/python/client/session.py\u001b[0m in \u001b[0;36m_do_run\u001b[0;34m(self, handle, target_list, fetch_list, feed_dict, options, run_metadata)\u001b[0m\n\u001b[1;32m   1314\u001b[0m     \u001b[0;32mif\u001b[0m \u001b[0mhandle\u001b[0m \u001b[0;32mis\u001b[0m \u001b[0;32mNone\u001b[0m\u001b[0;34m:\u001b[0m\u001b[0;34m\u001b[0m\u001b[0m\n\u001b[1;32m   1315\u001b[0m       return self._do_call(_run_fn, feeds, fetches, targets, options,\n\u001b[0;32m-> 1316\u001b[0;31m                            run_metadata)\n\u001b[0m\u001b[1;32m   1317\u001b[0m     \u001b[0;32melse\u001b[0m\u001b[0;34m:\u001b[0m\u001b[0;34m\u001b[0m\u001b[0m\n\u001b[1;32m   1318\u001b[0m       \u001b[0;32mreturn\u001b[0m \u001b[0mself\u001b[0m\u001b[0;34m.\u001b[0m\u001b[0m_do_call\u001b[0m\u001b[0;34m(\u001b[0m\u001b[0m_prun_fn\u001b[0m\u001b[0;34m,\u001b[0m \u001b[0mhandle\u001b[0m\u001b[0;34m,\u001b[0m \u001b[0mfeeds\u001b[0m\u001b[0;34m,\u001b[0m \u001b[0mfetches\u001b[0m\u001b[0;34m)\u001b[0m\u001b[0;34m\u001b[0m\u001b[0m\n",
      "\u001b[0;32m~/.local/lib/python3.5/site-packages/tensorflow/python/client/session.py\u001b[0m in \u001b[0;36m_do_call\u001b[0;34m(self, fn, *args)\u001b[0m\n\u001b[1;32m   1320\u001b[0m   \u001b[0;32mdef\u001b[0m \u001b[0m_do_call\u001b[0m\u001b[0;34m(\u001b[0m\u001b[0mself\u001b[0m\u001b[0;34m,\u001b[0m \u001b[0mfn\u001b[0m\u001b[0;34m,\u001b[0m \u001b[0;34m*\u001b[0m\u001b[0margs\u001b[0m\u001b[0;34m)\u001b[0m\u001b[0;34m:\u001b[0m\u001b[0;34m\u001b[0m\u001b[0m\n\u001b[1;32m   1321\u001b[0m     \u001b[0;32mtry\u001b[0m\u001b[0;34m:\u001b[0m\u001b[0;34m\u001b[0m\u001b[0m\n\u001b[0;32m-> 1322\u001b[0;31m       \u001b[0;32mreturn\u001b[0m \u001b[0mfn\u001b[0m\u001b[0;34m(\u001b[0m\u001b[0;34m*\u001b[0m\u001b[0margs\u001b[0m\u001b[0;34m)\u001b[0m\u001b[0;34m\u001b[0m\u001b[0m\n\u001b[0m\u001b[1;32m   1323\u001b[0m     \u001b[0;32mexcept\u001b[0m \u001b[0merrors\u001b[0m\u001b[0;34m.\u001b[0m\u001b[0mOpError\u001b[0m \u001b[0;32mas\u001b[0m \u001b[0me\u001b[0m\u001b[0;34m:\u001b[0m\u001b[0;34m\u001b[0m\u001b[0m\n\u001b[1;32m   1324\u001b[0m       \u001b[0mmessage\u001b[0m \u001b[0;34m=\u001b[0m \u001b[0mcompat\u001b[0m\u001b[0;34m.\u001b[0m\u001b[0mas_text\u001b[0m\u001b[0;34m(\u001b[0m\u001b[0me\u001b[0m\u001b[0;34m.\u001b[0m\u001b[0mmessage\u001b[0m\u001b[0;34m)\u001b[0m\u001b[0;34m\u001b[0m\u001b[0m\n",
      "\u001b[0;32m~/.local/lib/python3.5/site-packages/tensorflow/python/client/session.py\u001b[0m in \u001b[0;36m_run_fn\u001b[0;34m(feed_dict, fetch_list, target_list, options, run_metadata)\u001b[0m\n\u001b[1;32m   1305\u001b[0m       \u001b[0mself\u001b[0m\u001b[0;34m.\u001b[0m\u001b[0m_extend_graph\u001b[0m\u001b[0;34m(\u001b[0m\u001b[0;34m)\u001b[0m\u001b[0;34m\u001b[0m\u001b[0m\n\u001b[1;32m   1306\u001b[0m       return self._call_tf_sessionrun(\n\u001b[0;32m-> 1307\u001b[0;31m           options, feed_dict, fetch_list, target_list, run_metadata)\n\u001b[0m\u001b[1;32m   1308\u001b[0m \u001b[0;34m\u001b[0m\u001b[0m\n\u001b[1;32m   1309\u001b[0m     \u001b[0;32mdef\u001b[0m \u001b[0m_prun_fn\u001b[0m\u001b[0;34m(\u001b[0m\u001b[0mhandle\u001b[0m\u001b[0;34m,\u001b[0m \u001b[0mfeed_dict\u001b[0m\u001b[0;34m,\u001b[0m \u001b[0mfetch_list\u001b[0m\u001b[0;34m)\u001b[0m\u001b[0;34m:\u001b[0m\u001b[0;34m\u001b[0m\u001b[0m\n",
      "\u001b[0;32m~/.local/lib/python3.5/site-packages/tensorflow/python/client/session.py\u001b[0m in \u001b[0;36m_call_tf_sessionrun\u001b[0;34m(self, options, feed_dict, fetch_list, target_list, run_metadata)\u001b[0m\n\u001b[1;32m   1407\u001b[0m       return tf_session.TF_SessionRun_wrapper(\n\u001b[1;32m   1408\u001b[0m           \u001b[0mself\u001b[0m\u001b[0;34m.\u001b[0m\u001b[0m_session\u001b[0m\u001b[0;34m,\u001b[0m \u001b[0moptions\u001b[0m\u001b[0;34m,\u001b[0m \u001b[0mfeed_dict\u001b[0m\u001b[0;34m,\u001b[0m \u001b[0mfetch_list\u001b[0m\u001b[0;34m,\u001b[0m \u001b[0mtarget_list\u001b[0m\u001b[0;34m,\u001b[0m\u001b[0;34m\u001b[0m\u001b[0m\n\u001b[0;32m-> 1409\u001b[0;31m           run_metadata)\n\u001b[0m\u001b[1;32m   1410\u001b[0m     \u001b[0;32melse\u001b[0m\u001b[0;34m:\u001b[0m\u001b[0;34m\u001b[0m\u001b[0m\n\u001b[1;32m   1411\u001b[0m       \u001b[0;32mwith\u001b[0m \u001b[0merrors\u001b[0m\u001b[0;34m.\u001b[0m\u001b[0mraise_exception_on_not_ok_status\u001b[0m\u001b[0;34m(\u001b[0m\u001b[0;34m)\u001b[0m \u001b[0;32mas\u001b[0m \u001b[0mstatus\u001b[0m\u001b[0;34m:\u001b[0m\u001b[0;34m\u001b[0m\u001b[0m\n",
      "\u001b[0;31mKeyboardInterrupt\u001b[0m: "
     ],
     "output_type": "error"
    }
   ],
   "source": [
    "learning_rates = [.0001, .0005, .0007, .001]\n",
    "truth = np.argmax(lim_val_y, 1) \n",
    "\n",
    "for lr in learning_rates:\n",
    "    lstm = ClassifyEmotion(lr=lr, num_hidden=256)\n",
    "    print(vars(lstm))\n",
    "    val_pred = lstm.train(train_x=lim_train_x, val_x=lim_val_x, \n",
    "                          train_y=lim_train_y, val_y=lim_val_y, \n",
    "                          train_lengths=lim_train_lengths, \n",
    "                          val_lengths=lim_val_lengths, \n",
    "                          verbose=False, \n",
    "                          batch_size=32, epochs=50, load_model=False, \n",
    "                          save_path='final_model/lr_test.ckpt')\n",
    "    acc = sum(val_pred == np.argmax(lim_val_y, 1))/len(val_pred)\n",
    "    print('Accuracy: {}'.format(acc))"
   ]
  },
  {
   "cell_type": "code",
   "execution_count": 25,
   "metadata": {},
   "outputs": [
    {
     "name": "stdout",
     "output_type": "stream",
     "text": [
      "{'num_features': 26, 'num_classes': 6, 'learning_rate': 0.0005, 'num_hidden': 512}\n",
      "Created 42 batches of size 32\n",
      "Created Validation 5 batches of size 32\n",
      "Data Batch Shape: (32, 750, 26) Labels Shape: (32, 6) \n",
      "(?, 1024)\n",
      "(?, 1024)\n",
      "(?, 256)\n",
      "(?, 6)\n",
      "Epoch 0 mean batch val loss 1.6801049709320068\n",
      "Epoch 5 mean batch val loss 1.6791181564331055\n",
      "Epoch 10 mean batch val loss 1.6758193969726562\n",
      "Epoch 15 mean batch val loss 1.6723060607910156\n",
      "Epoch 20 mean batch val loss 1.7721226215362549\n",
      "Epoch 25 mean batch val loss 1.736720323562622\n",
      "Epoch 30 mean batch val loss 1.733214020729065\n",
      "Epoch 35 mean batch val loss 1.728166937828064\n",
      "Epoch 40 mean batch val loss 1.7222931385040283\n",
      "Epoch 45 mean batch val loss 1.715497612953186\n",
      "Accuracy: 0.25\n",
      "{'num_features': 26, 'num_classes': 6, 'learning_rate': 0.0005, 'num_hidden': 128}\n",
      "Created 42 batches of size 32\n",
      "Created Validation 5 batches of size 32\n",
      "Data Batch Shape: (32, 750, 26) Labels Shape: (32, 6) \n",
      "(?, 256)\n",
      "(?, 256)\n",
      "(?, 64)\n",
      "(?, 6)\n",
      "Epoch 0 mean batch val loss 1.6830295324325562\n",
      "Epoch 5 mean batch val loss 1.6776962280273438\n",
      "Epoch 10 mean batch val loss 1.671523094177246\n",
      "Epoch 15 mean batch val loss 1.6703250408172607\n",
      "Epoch 20 mean batch val loss 1.6647762060165405\n",
      "Epoch 25 mean batch val loss 1.6592369079589844\n",
      "Epoch 30 mean batch val loss 1.6718149185180664\n",
      "Epoch 35 mean batch val loss 1.6593239307403564\n",
      "Epoch 40 mean batch val loss 1.6648643016815186\n",
      "Epoch 45 mean batch val loss 1.664939522743225\n",
      "Accuracy: 0.20270270270270271\n",
      "{'num_features': 26, 'num_classes': 6, 'learning_rate': 0.0005, 'num_hidden': 64}\n",
      "Created 42 batches of size 32\n",
      "Created Validation 5 batches of size 32\n",
      "Data Batch Shape: (32, 750, 26) Labels Shape: (32, 6) \n",
      "(?, 128)\n",
      "(?, 128)\n",
      "(?, 32)\n",
      "(?, 6)\n",
      "Epoch 0 mean batch val loss 1.700989007949829\n",
      "Epoch 5 mean batch val loss 1.6753206253051758\n",
      "Epoch 10 mean batch val loss 1.6685558557510376\n",
      "Epoch 15 mean batch val loss 1.6681592464447021\n",
      "Epoch 20 mean batch val loss 1.6567184925079346\n",
      "Epoch 25 mean batch val loss 1.651473045349121\n",
      "Epoch 30 mean batch val loss 1.6535756587982178\n",
      "Epoch 35 mean batch val loss 1.663648247718811\n",
      "Epoch 40 mean batch val loss 1.6639769077301025\n",
      "Epoch 45 mean batch val loss 1.6430658102035522\n",
      "Accuracy: 0.19594594594594594\n"
     ]
    }
   ],
   "source": [
    "num_hidden = [512, 128, 64]\n",
    "\n",
    "for h in num_hidden: \n",
    "    lstm = ClassifyEmotion(lr=.0005, num_hidden=h)\n",
    "    print(vars(lstm))\n",
    "    val_pred = lstm.train(train_x=lim_train_x, val_x=lim_val_x, \n",
    "                          train_y=lim_train_y, val_y=lim_val_y, \n",
    "                          train_lengths=lim_train_lengths, \n",
    "                          val_lengths=lim_val_lengths, \n",
    "                          verbose=False, \n",
    "                          batch_size=32, epochs=50, load_model=False, \n",
    "                          save_path='final_model/num_hidden_test.ckpt')\n",
    "    acc = sum(val_pred == np.argmax(lim_val_y, 1))/len(val_pred)\n",
    "    print('Accuracy: {}'.format(acc))"
   ]
  },
  {
   "cell_type": "code",
   "execution_count": 27,
   "metadata": {},
   "outputs": [
    {
     "name": "stdout",
     "output_type": "stream",
     "text": [
      "{'num_features': 26, 'num_classes': 6, 'learning_rate': 0.0005, 'num_hidden': 64, 'dense_hidden': 512}\n",
      "Created 42 batches of size 32\n",
      "Created Validation 5 batches of size 32\n",
      "Data Batch Shape: (32, 750, 26) Labels Shape: (32, 6) \n",
      "(?, 128)\n",
      "(?, 128)\n",
      "(?, 512)\n",
      "(?, 6)\n",
      "Epoch 0 mean batch val loss 1.6846727132797241\n",
      "Epoch 5 mean batch val loss 1.6806259155273438\n",
      "Epoch 10 mean batch val loss 1.6762855052947998\n",
      "Epoch 15 mean batch val loss 1.6878869533538818\n",
      "Epoch 20 mean batch val loss 1.6715717315673828\n",
      "Epoch 25 mean batch val loss 1.666272521018982\n",
      "Epoch 30 mean batch val loss 1.6656242609024048\n",
      "Epoch 35 mean batch val loss 1.6539623737335205\n",
      "Epoch 40 mean batch val loss 1.6508935689926147\n",
      "Epoch 45 mean batch val loss 1.6635900735855103\n",
      "Epoch 49 mean batch val loss 1.6635900735855103\n"
     ]
    }
   ],
   "source": [
    "# Dense layer hidden units = 512 \n",
    "lstm = ClassifyEmotion(lr=.0005, num_hidden=64, dense_hidden=512)\n",
    "print(vars(lstm))\n",
    "val_pred = lstm.train(train_x=lim_train_x, val_x=lim_val_x, \n",
    "                      train_y=lim_train_y, val_y=lim_val_y, \n",
    "                      train_lengths=lim_train_lengths, \n",
    "                      val_lengths=lim_val_lengths, \n",
    "                      verbose=False, \n",
    "                      batch_size=32, epochs=50, load_model=False, \n",
    "                      save_path='final_model/num_hidden_test.ckpt')"
   ]
  },
  {
   "cell_type": "code",
   "execution_count": 28,
   "metadata": {},
   "outputs": [
    {
     "name": "stdout",
     "output_type": "stream",
     "text": [
      "Accuracy: 0.20270270270270271\n"
     ]
    }
   ],
   "source": [
    "acc = sum(val_pred == np.argmax(lim_val_y, 1))/len(val_pred)\n",
    "print('Accuracy: {}'.format(acc))"
   ]
  },
  {
   "cell_type": "markdown",
   "metadata": {},
   "source": [
    "# Train using all data "
   ]
  },
  {
   "cell_type": "code",
   "execution_count": 12,
   "metadata": {},
   "outputs": [],
   "source": [
    "# Split into train and test\n",
    "train_x, val_x, train_y, val_y, train_lengths, val_lengths = train_test_split(data,\n",
    "                                                                              onehot_labels,\n",
    "                                                                              orig_lengths,\n",
    "                                                                              test_size=0.2)"
   ]
  },
  {
   "cell_type": "code",
   "execution_count": 13,
   "metadata": {},
   "outputs": [
    {
     "name": "stdout",
     "output_type": "stream",
     "text": [
      "{'dense_hidden': 512, 'num_classes': 6, 'learning_rate': 0.0002, 'num_features': 26, 'num_hidden': 128}\n",
      "Created 185 batches of size 32\n",
      "Created Validation 47 batches of size 32\n",
      "Data Batch Shape: (32, 1000, 26) Labels Shape: (32, 6) \n",
      "BLSTM-0 (?, 256)\n",
      "BLSTM-1 (?, 256)\n",
      "(?, 512)\n",
      "(?, 6)\n",
      "Epoch 0 mean batch val loss 1.5604650974273682\n",
      "Epoch 5 mean batch val loss 1.5549639463424683\n",
      "Epoch 10 mean batch val loss 1.5510139465332031\n",
      "Epoch 15 mean batch val loss 1.5486640930175781\n",
      "Epoch 19 mean batch val loss 1.5486640930175781\n"
     ]
    }
   ],
   "source": [
    "lstm = ClassifyEmotion(lr=.0002, num_hidden=128, dense_hidden=512)\n",
    "print(vars(lstm))\n",
    "val_predictions = lstm.train(train_x=train_x, val_x=val_x, train_y=train_y, val_y=val_y, \n",
    "                             train_lengths=train_lengths, val_lengths=val_lengths, \n",
    "                             batch_size=32, epochs=20, load_model=False, verbose=False,\n",
    "                             save_path='final_model/emotion_recognition_1000.ckpt')"
   ]
  },
  {
   "cell_type": "code",
   "execution_count": 19,
   "metadata": {},
   "outputs": [
    {
     "data": {
      "text/plain": [
       "0.24661246612466126"
      ]
     },
     "execution_count": 19,
     "metadata": {},
     "output_type": "execute_result"
    }
   ],
   "source": [
    "truth = np.argmax(val_y, 1)\n",
    "correct = sum(val_predictions == truth)\n",
    "\n",
    "correct/len(truth)"
   ]
  },
  {
   "cell_type": "markdown",
   "metadata": {},
   "source": [
    "# Train Using Even Class Sizes "
   ]
  },
  {
   "cell_type": "code",
   "execution_count": 50,
   "metadata": {},
   "outputs": [
    {
     "name": "stdout",
     "output_type": "stream",
     "text": [
      "(3595, 1000, 26) 3595 3595\n"
     ]
    }
   ],
   "source": [
    "ang_idx = [i for i, x in enumerate(labels) if x=='ang'][:600]\n",
    "fru_idx = [i for i, x in enumerate(labels) if x=='fru'][:600]\n",
    "neu_idx = [i for i, x in enumerate(labels) if x=='neu'][:600]\n",
    "exc_idx = [i for i, x in enumerate(labels) if x=='exc'][:600]\n",
    "hap_idx = [i for i, x in enumerate(labels) if x=='hap']\n",
    "sad_idx = [i for i, x in enumerate(labels) if x=='sad'][:600]\n",
    "\n",
    "all_idx = ang_idx + fru_idx + neu_idx + exc_idx + hap_idx + sad_idx\n",
    "\n",
    "balanced_data = data[all_idx, :]\n",
    "balanced_labels = [label for i, label in enumerate(labels) if i in all_idx]\n",
    "balanced_lengths = [l for i, l in enumerate(orig_lengths) if i in all_idx]\n",
    "\n",
    "print(balanced_data.shape, len(balanced_labels), len(balanced_lengths))\n",
    "\n",
    "# Convert Y to one hot\n",
    "balanced_int_labels = LabelEncoder().fit_transform(balanced_labels)\n",
    "balanced_int_labels = balanced_int_labels.reshape(len(balanced_int_labels), 1)\n",
    "balanced_onehot_labels = OneHotEncoder().fit_transform(balanced_int_labels).toarray()\n",
    "\n",
    "# Split into train and test\n",
    "train_x, val_x, train_y, val_y, train_lengths, val_lengths = train_test_split(balanced_data,\n",
    "                                                                              balanced_onehot_labels,\n",
    "                                                                              balanced_lengths,\n",
    "                                                                              test_size=0.1)"
   ]
  },
  {
   "cell_type": "code",
   "execution_count": 58,
   "metadata": {},
   "outputs": [
    {
     "name": "stdout",
     "output_type": "stream",
     "text": [
      "{'dense_hidden': 256, 'num_classes': 6, 'learning_rate': 0.0005, 'num_features': 26, 'num_hidden': 128}\n",
      "Created 203 batches of size 16\n",
      "Created Validation 23 batches of size 16\n",
      "Data Batch Shape: (16, 1000, 26) Labels Shape: (16, 6) \n",
      "BLSTM-0 (?, 256)\n",
      "BLSTM-1 (?, 256)\n",
      "(?, 256)\n",
      "(?, 6)\n",
      "Epoch 0 mean loss 1.7924994230270386\n",
      "Epoch 0 mean batch val loss 1.7941268682479858\n",
      "Epoch 1 mean loss 1.7924065589904785\n",
      "Epoch 1 mean batch val loss 1.7898458242416382\n",
      "Epoch 2 mean loss 1.7921665906906128\n",
      "Epoch 2 mean batch val loss 1.7896699905395508\n",
      "Epoch 3 mean loss 1.7918757200241089\n",
      "Epoch 3 mean batch val loss 1.7889657020568848\n",
      "Epoch 4 mean loss 1.7912245988845825\n",
      "Epoch 4 mean batch val loss 1.7889125347137451\n",
      "Epoch 4 mean batch val loss 1.7889125347137451\n"
     ]
    }
   ],
   "source": [
    "# Test to see if balanced dataset has decreasing error rates \n",
    "lstm = ClassifyEmotion(lr=.0005, num_hidden=128, dense_hidden=256)\n",
    "print(vars(lstm))\n",
    "val_pred_balanced = lstm.train(train_x=train_x, val_x=val_x, train_y=train_y, val_y=val_y, \n",
    "                             train_lengths=train_lengths, val_lengths=val_lengths, \n",
    "                             batch_size=16, epochs=5, load_model=False, verbose=True,\n",
    "                             save_path='final_model/emotion_recognition_balanced.ckpt')"
   ]
  },
  {
   "cell_type": "code",
   "execution_count": null,
   "metadata": {},
   "outputs": [],
   "source": [
    "val_pred_truth = np.argmax(val_y, 1)\n",
    "accuracy = sum(val_pred_truth == val_pred_balanced) / len(val_pred_truth)\n",
    "accuracy"
   ]
  }
 ],
 "metadata": {
  "kernelspec": {
   "display_name": "Python 3",
   "language": "python",
   "name": "python3"
  },
  "language_info": {
   "codemirror_mode": {
    "name": "ipython",
    "version": 3
   },
   "file_extension": ".py",
   "mimetype": "text/x-python",
   "name": "python",
   "nbconvert_exporter": "python",
   "pygments_lexer": "ipython3",
   "version": "3.5.2"
  }
 },
 "nbformat": 4,
 "nbformat_minor": 2
}
